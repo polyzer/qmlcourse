{
 "cells": [
  {
   "cell_type": "code",
   "execution_count": 1,
   "id": "c2344147",
   "metadata": {},
   "outputs": [
    {
     "data": {
      "text/html": [
       "<pre style=\"word-wrap: normal;white-space: pre;background: #fff0;line-height: 1.1;font-family: &quot;Courier New&quot;,Courier,monospace\">                      ┌───┐┌─┐              \n",
       "  q_0: ────────────■──┤ H ├┤M├──────────────\n",
       "       ┌───┐     ┌─┴─┐└┬─┬┘└╥┘              \n",
       "  q_1: ┤ H ├──■──┤ X ├─┤M├──╫───────────────\n",
       "       └───┘┌─┴─┐└───┘ └╥┘  ║  ┌───┐  ┌───┐ \n",
       "  q_2: ─────┤ X ├───────╫───╫──┤ X ├──┤ Z ├─\n",
       "            └───┘       ║   ║  └─╥─┘  └─╥─┘ \n",
       "                        ║   ║    ║   ┌──╨──┐\n",
       "crz: 1/═════════════════╬═══╩════╬═══╡ = 1 ╞\n",
       "                        ║   0 ┌──╨──┐└─────┘\n",
       "crx: 1/═════════════════╩═════╡ = 1 ╞═══════\n",
       "                        0     └─────┘       </pre>"
      ],
      "text/plain": [
       "                      ┌───┐┌─┐              \n",
       "  q_0: ────────────■──┤ H ├┤M├──────────────\n",
       "       ┌───┐     ┌─┴─┐└┬─┬┘└╥┘              \n",
       "  q_1: ┤ H ├──■──┤ X ├─┤M├──╫───────────────\n",
       "       └───┘┌─┴─┐└───┘ └╥┘  ║  ┌───┐  ┌───┐ \n",
       "  q_2: ─────┤ X ├───────╫───╫──┤ X ├──┤ Z ├─\n",
       "            └───┘       ║   ║  └─╥─┘  └─╥─┘ \n",
       "                        ║   ║    ║   ┌──╨──┐\n",
       "crz: 1/═════════════════╬═══╩════╬═══╡ = 1 ╞\n",
       "                        ║   0 ┌──╨──┐└─────┘\n",
       "crx: 1/═════════════════╩═════╡ = 1 ╞═══════\n",
       "                        0     └─────┘       "
      ]
     },
     "execution_count": 1,
     "metadata": {},
     "output_type": "execute_result"
    }
   ],
   "source": [
    "from qiskit import QuantumCircuit, ClassicalRegister, QuantumRegister\n",
    "\n",
    "# создаём необходимые регистры\n",
    "qr = QuantumRegister(3, name=\"q\")\n",
    "crz = ClassicalRegister(1, name=\"crz\")\n",
    "crx = ClassicalRegister(1, name=\"crx\")\n",
    "\n",
    "# создаём схему\n",
    "qc = QuantumCircuit(qr, crz, crx)\n",
    "\n",
    "# Шаг 1\n",
    "qc.h(qr[1])\n",
    "# Шаг 2\n",
    "qc.cx(qr[1],qr[2])\n",
    "\n",
    "# Шаг 3\n",
    "qc.cx(qr[0], qr[1])\n",
    "# Шаг 4\n",
    "qc.h(qr[0])\n",
    "\n",
    "# Шаг 5 - измеряются 2 кубита Алисы, чтобы передать результат Бобу\n",
    "qc.measure(qr[0],crz)\n",
    "qc.measure(qr[1],crx)\n",
    "\n",
    "# Шаг 6 - применяются гейт X и гейт Z в завиимости от того, какое из измерений даёт результат 1.\n",
    "qc.x(qr[2]).c_if(crx, 1)\n",
    "qc.z(qr[2]).c_if(crz, 1)\n",
    "\n",
    "qc.draw()"
   ]
  }
 ],
 "metadata": {
  "jupytext": {
   "formats": "md:myst",
   "text_representation": {
    "extension": ".md",
    "format_name": "myst"
   }
  },
  "kernelspec": {
   "display_name": "Python 3",
   "language": "python",
   "name": "python3"
  },
  "language_info": {
   "codemirror_mode": {
    "name": "ipython",
    "version": 3
   },
   "file_extension": ".py",
   "mimetype": "text/x-python",
   "name": "python",
   "nbconvert_exporter": "python",
   "pygments_lexer": "ipython3",
   "version": "3.8.12"
  },
  "source_map": [
   11,
   103,
   133
  ]
 },
 "nbformat": 4,
 "nbformat_minor": 5
}