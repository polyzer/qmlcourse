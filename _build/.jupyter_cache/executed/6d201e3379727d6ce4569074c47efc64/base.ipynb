{
 "cells": [
  {
   "cell_type": "code",
   "execution_count": 1,
   "id": "c5632879",
   "metadata": {},
   "outputs": [],
   "source": [
    "def count_roots(a, b, c):\n",
    "\n",
    "    d = b**2 - 4 * a * c\n",
    "    if d == 0:\n",
    "        return 'один'\n",
    "\n",
    "    elif d < 0:\n",
    "        return 'нет корней'\n",
    "\n",
    "    else:\n",
    "        return 'два'"
   ]
  },
  {
   "cell_type": "code",
   "execution_count": 2,
   "id": "5c0fc8b4",
   "metadata": {},
   "outputs": [],
   "source": [
    "# первым делом - def\n",
    "# далее - имя функции \"print_theme\"\n",
    "# после - круглые скобки, сейчас пустые. Потом : и переход на новую строку\n",
    "def print_theme():\n",
    "\n",
    "    # тело функции из двух вызовов print(), оба с единообразным отступом\n",
    "    print('Лекция про функции!')\n",
    "    print('Тело кончилось')"
   ]
  },
  {
   "cell_type": "code",
   "execution_count": 3,
   "id": "1a556cce",
   "metadata": {},
   "outputs": [
    {
     "name": "stdout",
     "output_type": "stream",
     "text": [
      "Лекция про функции!\n",
      "Тело кончилось\n"
     ]
    }
   ],
   "source": [
    "# выше была определена print_theme, ее и вызовем\n",
    "print_theme()"
   ]
  },
  {
   "cell_type": "code",
   "execution_count": 4,
   "id": "4a29b99b",
   "metadata": {},
   "outputs": [],
   "source": [
    "# определим функцию, которая принимает на вход x\n",
    "def add_two(x):\n",
    "\n",
    "    # переменная result - сумма x и 2\n",
    "    result = x + 2\n",
    "\n",
    "    # \"наружу\" возвращается полученное значение\n",
    "    return result"
   ]
  },
  {
   "cell_type": "code",
   "execution_count": 5,
   "id": "fd1ee8f2",
   "metadata": {},
   "outputs": [
    {
     "name": "stdout",
     "output_type": "stream",
     "text": [
      "Лекция про функции!\n",
      "Тело кончилось\n",
      "None\n"
     ]
    }
   ],
   "source": [
    "# Присвоим результат выполнения функции переменной и посмотрим, что в ней\n",
    "from_print_theme = print_theme()\n",
    "print(from_print_theme)"
   ]
  },
  {
   "cell_type": "code",
   "execution_count": 6,
   "id": "feeb9bb2",
   "metadata": {},
   "outputs": [
    {
     "name": "stdout",
     "output_type": "stream",
     "text": [
      "4\n"
     ]
    }
   ],
   "source": [
    "# add_two при вызове ожидает получить число: сложим 2 и 2\n",
    "from_add_two = add_two(2)\n",
    "print(from_add_two)"
   ]
  },
  {
   "cell_type": "code",
   "execution_count": 7,
   "id": "b67fb8bf",
   "metadata": {},
   "outputs": [
    {
     "name": "stdout",
     "output_type": "stream",
     "text": [
      "name 'result' is not defined\n"
     ]
    }
   ],
   "source": [
    "# ошибочка!\n",
    "# тут магическая конструкция try - except, которая \"ловит\" исключения и не\n",
    "# дает коду перестать работать из-за ошибки\n",
    "try:\n",
    "    print(result)\n",
    "except NameError as ne:\n",
    "    print(ne)"
   ]
  },
  {
   "cell_type": "code",
   "execution_count": 8,
   "id": "11051b91",
   "metadata": {},
   "outputs": [
    {
     "name": "stdout",
     "output_type": "stream",
     "text": [
      "name\n",
      "10\n",
      "20\n"
     ]
    }
   ],
   "source": [
    "z = 'name'\n",
    "\n",
    "def foo():\n",
    "    # в foo не определена своя z, но она успешно найдется в глобальной области\n",
    "    print(z)\n",
    "    a = 10\n",
    "    b = -5\n",
    "\n",
    "    def bar():\n",
    "        # bar успешно напечатает a, при этом значение будет найдено в\n",
    "        # неймспейсе foo\n",
    "        # как думаете, где находится print?\n",
    "        # в built-in, то есть самой \"внешней\" области\n",
    "        print(a)\n",
    "\n",
    "        # создадим переменную b внутри bar\n",
    "        b = 20\n",
    "\n",
    "        # будет напечатано 20, так как поиск увенчается успехом в локальном\n",
    "        # неймспейсе\n",
    "        print(b)\n",
    "\n",
    "    bar()\n",
    "\n",
    "    # если тут раскомментировать следующую строку, будет ошибка: foo не знает\n",
    "    # ничего про внутренности bar\n",
    "    # print(b)\n",
    "\n",
    "foo()"
   ]
  },
  {
   "cell_type": "code",
   "execution_count": 9,
   "id": "a21bf968",
   "metadata": {},
   "outputs": [],
   "source": [
    "# в данном случае есть два позиционных параметра\n",
    "def foo(arg1, arg2):\n",
    "    print(arg1, arg2)"
   ]
  },
  {
   "cell_type": "code",
   "execution_count": 10,
   "id": "ceb82637",
   "metadata": {},
   "outputs": [
    {
     "name": "stdout",
     "output_type": "stream",
     "text": [
      "3 1\n",
      "3\n"
     ]
    }
   ],
   "source": [
    "# в данном случае есть два позиционных параметра\n",
    "def two_var_sum(var1, var2):\n",
    "\n",
    "    # функция возвращает вычисленное значение суммы\n",
    "    return abs(var1) + var2\n",
    "\n",
    "# порядок важен!\n",
    "print(two_var_sum(-1, 2), two_var_sum(2, -1))\n",
    "\n",
    "# можно явно задавать переменные при вызове, в таком случае порядок не играет\n",
    "# роли. Указывается название параметра и значение после =\n",
    "print(two_var_sum(var2=2, var1=-1))"
   ]
  },
  {
   "cell_type": "code",
   "execution_count": 11,
   "id": "d5290d54",
   "metadata": {},
   "outputs": [
    {
     "data": {
      "text/plain": [
       "21"
      ]
     },
     "execution_count": 11,
     "metadata": {},
     "output_type": "execute_result"
    }
   ],
   "source": [
    "# тут позиционных аргументов нет (такое тоже может быть), поэтому сразу\n",
    "# используется синтаксис со *: список, куда попадут все переданные позиционные\n",
    "# аргументы, тут называется vars\n",
    "def many_var_sum(*vars):\n",
    "\n",
    "    # функция возвращает вычисленное значение суммы\n",
    "    return sum(vars)\n",
    "\n",
    "many_var_sum(1, 2, 3, 4, 5, 6)"
   ]
  },
  {
   "cell_type": "code",
   "execution_count": 12,
   "id": "1c38a203",
   "metadata": {},
   "outputs": [
    {
     "name": "stdout",
     "output_type": "stream",
     "text": [
      "Приветствую, Саша\n",
      "Здорова, Игорь\n",
      "Привет, Вася\n"
     ]
    }
   ],
   "source": [
    "# тут есть один позиционный параметр и один именованный\n",
    "def hello(name, phrase='Привет'):\n",
    "\n",
    "    print(f'{phrase}, {name}')\n",
    "\n",
    "# передавать значения аргументов можно как в исходном порядке, тогда\n",
    "# параметру будет присвоено соответствующее значение\n",
    "hello('Саша', 'Приветствую')\n",
    "\n",
    "# так и указывая названия параметров\n",
    "hello(phrase='Здорова', name='Игорь')\n",
    "\n",
    "# если не указать значение именованного параметра, используется дефолтное\n",
    "hello('Вася')"
   ]
  },
  {
   "cell_type": "code",
   "execution_count": 13,
   "id": "b6cbd03e",
   "metadata": {},
   "outputs": [
    {
     "name": "stdout",
     "output_type": "stream",
     "text": [
      "Happy Birthday, Mark\n"
     ]
    }
   ],
   "source": [
    "def congrats(today, everyone=False, **names):\n",
    "    \"\"\"\n",
    "    Функция может поздравляет людей\n",
    "    Args:\n",
    "        today (str): сегодняшняя дата\n",
    "        everyone(bool): флаг, нужно ли поздравить всех\n",
    "        names (dict): отображение имя: дата\n",
    "    \"\"\"\n",
    "\n",
    "    if everyone:\n",
    "        print('Happy Birthday!')\n",
    "\n",
    "    else:\n",
    "        for name, date in names.items():\n",
    "            if date[-5:] == today[-5:]:\n",
    "                print(f'Happy Birthday, {name}')\n",
    "\n",
    "congrats('2021-09-17', Paul='2001-03-08', Lena='1997-01-31', Mark='1997-09-17')"
   ]
  },
  {
   "cell_type": "code",
   "execution_count": 14,
   "id": "b54359d7",
   "metadata": {},
   "outputs": [
    {
     "data": {
      "text/plain": [
       "<function __main__.<lambda>(num, div=2)>"
      ]
     },
     "execution_count": 14,
     "metadata": {},
     "output_type": "execute_result"
    }
   ],
   "source": [
    "lambda x: abs(x)\n",
    "\n",
    "lambda num, div=2: 'нет' if num % div else 'да'"
   ]
  },
  {
   "cell_type": "code",
   "execution_count": 15,
   "id": "db40b261",
   "metadata": {},
   "outputs": [
    {
     "name": "stdout",
     "output_type": "stream",
     "text": [
      "нет да\n",
      "120\n"
     ]
    }
   ],
   "source": [
    "# сохранили в check_div функцию\n",
    "check_div = lambda num, div=2: 'нет' if num % div else 'да'\n",
    "\n",
    "# вызов совершенно обычный\n",
    "print(check_div(3), check_div(5, 5))\n",
    "\n",
    "# если без сохранения в переменную:\n",
    "print((lambda x: abs(x))(-120))"
   ]
  },
  {
   "cell_type": "code",
   "execution_count": 16,
   "id": "98331bd1",
   "metadata": {},
   "outputs": [],
   "source": [
    "import time\n",
    "\n",
    "# на вход декоратор принимает параметр func - оборачиваемую функцию\n",
    "def time_decorator(func):\n",
    "\n",
    "    # внутри определена функция, которая \"заменит\" переданную\n",
    "    # wrapped будет засекать, за сколько выполняется переданная функция\n",
    "    def wrapped(*args):\n",
    "        start = time.time()\n",
    "\n",
    "        # почему func нет среди аргументов wrapped?\n",
    "        # все аргументы, которые примет wrapped, тут передаются в func\n",
    "        result = func(*args)\n",
    "\n",
    "        end = time.time()\n",
    "        print(f'Прошло {end - start} секунд')\n",
    "\n",
    "        return result\n",
    "\n",
    "    # возвращает декоратор тоже функцию. обратите внимание, что\n",
    "    # возвращаемое значение именно объект function: после имени нет круглых\n",
    "    # скобок. если бы они были, возвращался бы результат выполнения wrapped,\n",
    "    # так как wrapped() - вызов функции\n",
    "    return wrapped"
   ]
  },
  {
   "cell_type": "code",
   "execution_count": 17,
   "id": "6527dad5",
   "metadata": {},
   "outputs": [
    {
     "name": "stdout",
     "output_type": "stream",
     "text": [
      "Прошло 1.6689300537109375e-06 секунд\n"
     ]
    }
   ],
   "source": [
    "# сохраним обернутую функцию (помним, декоратор возвращает функцию) в\n",
    "# переменную, обратите внимание, что на вход декоратору передается также\n",
    "# объект самой функции, а не результат ее работы\n",
    "many_var_sum = time_decorator(many_var_sum)\n",
    "\n",
    "# поведение функции поменялось, а код - нет\n",
    "summed = many_var_sum(10, 0, -120, 333)"
   ]
  },
  {
   "cell_type": "code",
   "execution_count": 18,
   "id": "93a1675d",
   "metadata": {},
   "outputs": [
    {
     "name": "stdout",
     "output_type": "stream",
     "text": [
      "Прошло 5.4836273193359375e-06 секунд\n"
     ]
    }
   ],
   "source": [
    "# теперь, при вызове, stupid_power сразу будет обернута!\n",
    "@time_decorator\n",
    "def stupid_power(x, power=5):\n",
    "    result = 1\n",
    "    for p in range(power):\n",
    "        result *= x\n",
    "    return result\n",
    "\n",
    "powered = stupid_power(10)"
   ]
  }
 ],
 "metadata": {
  "jupytext": {
   "formats": "md:myst",
   "text_representation": {
    "extension": ".md",
    "format_name": "myst"
   }
  },
  "kernelspec": {
   "display_name": "Python 3",
   "language": "python",
   "name": "python3"
  },
  "language_info": {
   "codemirror_mode": {
    "name": "ipython",
    "version": 3
   },
   "file_extension": ".py",
   "mimetype": "text/x-python",
   "name": "python",
   "nbconvert_exporter": "python",
   "pygments_lexer": "ipython3",
   "version": "3.8.12"
  },
  "source_map": [
   11,
   55,
   67,
   99,
   108,
   112,
   115,
   119,
   128,
   136,
   140,
   146,
   150,
   155,
   163,
   183,
   213,
   233,
   237,
   246,
   259,
   266,
   276,
   292,
   307,
   311,
   330,
   344,
   348,
   353,
   362,
   371,
   396,
   399,
   407,
   411,
   422
  ]
 },
 "nbformat": 4,
 "nbformat_minor": 5
}